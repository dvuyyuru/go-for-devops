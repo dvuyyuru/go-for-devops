!pip install groq

from groq import Groq
from IPython.display import Markdown, display

client = Groq(
    api_key="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",
)

##############################################################################
# Chatbot class.
##############################################################################
class ChatBot:
    def __init__(self,model="llama3-8b-8192"):
        self.question_trace = []
        self.answer_trace = []
        self.model = model
        self.client = Groq(api_key="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",)
        self.msgs = []
        self.logs = []
        self.Role = "You are tax expert. Answer the question using only information below: \n"
        self.bt_content = "The form of business you operate determines what taxes you must pay and how you pay them. The following are the five general types of business taxes. Income Tax Estimated Taxes Self-Employment Tax Employment Taxes Excise Tax Income tax All businesses except partnerships must file an annual income tax return. Partnerships file an information return. The form you use depends on how your business is organized. Refer to Business Structures to find out which returns you must file based on the business entity established. The federal income tax is a pay-as-you-go tax. You must pay the tax as you earn or receive income during the year. An employee usually has income tax withheld from his or her pay. If you do not pay your tax through withholding, or do not pay enough tax that way, you might have to pay estimated tax. If you are not required to make estimated tax payments, you may pay any tax due when you file your return. For additional information refer to Publication 583.Estimated taxGenerally, you must pay taxes on income, including self-employment tax (discussed next), by making regular payments of estimated tax during the year. For additional information, refer to Estimated Taxes.Self-employment tax Self-employment tax (SE tax) is a social security and Medicare tax primarily for individuals who work for themselves. Your payments of SE tax contribute to your coverage under the social security system. Social security coverage provides you with retirement benefits, disability benefits, survivor benefits, and hospital insurance (Medicare) benefits.Generally, you must pay SE tax and file Schedule SE (Form 1040 or 1040-SR) if either of the following applies.If your net earnings from self-employment were $400 or more.If you work for a church or a qualified church-controlled organization (other than as a minister or member of a religious order) that elected an exemption from social security and Medicare taxes, you are subject to SE tax if you receive $108.28 or more in wages from the church or organization.Note: There are special rules and exceptions for aliens, fishing crew members, notary public, state or local government employees, foreign government or international organization employees, etc. For additional information, refer to Self-Employment Tax. Employment taxesWhen you have employees, you as the employer have certain employment tax responsibilities that you must pay and forms you must file. Employment taxes include the following:Social security and Medicare taxes Federal income tax withholding Federal unemployment (FUTA) tax For additional information, refer to Employment Taxes for Small Businesses.Excise taxThis section describes the excise taxes you may have to pay and the forms you have to file if you do any of the following.Manufacture or sell certain products.Operate certain kinds of businesses.Use various kinds of equipment, facilities, or products.Receive payment for certain services.Form 720 - The federal excise taxes reported on Form 720, consist of several broad categories of taxes, including the following.Environmental taxes.Communications and air transportation taxes.Fuel taxes.Tax on the first retail sale of heavy trucks, trailers, and tractors.Manufacturers taxes on the sale or use of a variety of different articlesForm 2290 - There is a federal excise tax on certain trucks, truck tractors, and buses used on public highways. The tax applies to vehicles having a taxable gross weight of 55,000 pounds or more. Report the tax on Form 2290. For additional information, see the instructions for Form 2290 .Form 730 - If you are in the business of accepting wagers or conducting a wagering pool or lottery, you may be liable for the federal excise tax on wagering. Use Form 730, to figure the tax on the wagers you receive.Form 11-C - Use Form 11-C, Occupational Tax and Registration Return for Wagering, to register for any wagering activity and to pay the federal occupational tax on wagering.Excise tax has several general excise tax programs. One of the major components of the excise program is motor fuel. For additional information, refer to Excise Taxes."
        self.prompt_template = '{Role} \n Information: "{bussinessTaxcontext}" \n Question: "{user_q}" \n Answer:'
        # self.botmode = False

    def get_modelname(self):
        print(f"model name: {self.model}")

    def getUserInput(self):
        # return input(Markdown(f"<font color='blue'><i>user: </i></font>"))
        return input("User: ")

    def generateResponse(self,user_msg):
        prompt = self.prompt_template.format(Role=self.Role,bussinessTaxcontext=self.bt_content,user_q=user_msg)

        self.msgs.append({"role":"user", "content":prompt});
        chat_completion = self.client.chat.completions.create(messages=self.msgs,model=self.model,)
        self.logs.append(chat_completion)

        # self.msgs.append({"role":chat_completion.choices[0].message.role,"content":chat_completion.choices[0].message.content})
        return chat_completion.choices[0].message.content

    def startChat(self):
        user_msg = self.getUserInput()
        while(user_msg != "exit"):
            botResponse = self.generateResponse(user_msg)
            display(Markdown(f"<font color='blue'><i>bot: </i>{botResponse}</font>"))
            # print(botResponse)
            user_msg = self.getUserInput()
        if(user_msg == "exit"):
            print("Thank you for using our chat application. Please give any feedback to help us improve.")


import time
bot1 = ChatBot()
bot1.get_modelname()

bot1.startChat()

for str in bot1.logs:
    print(str.choices[0].message.content)
# print(bot1.msgs)

bussinessTaxcontext= "The form of business you operate determines what taxes you must pay and how you pay them. The following are the five general types of business taxes. \
Income Tax \
Estimated Taxes \
Self-Employment Tax \
Employment Taxes \
Excise Tax \
Income tax \
All businesses except partnerships must file an annual income tax return. Partnerships file an information return. The form you use depends on how your business is organized. Refer to Business Structures to find out which returns you must file based on the business entity established. \
\
The federal income tax is a pay-as-you-go tax. You must pay the tax as you earn or receive income during the year. An employee usually has income tax withheld from his or her pay. If you do not pay your tax through withholding, or do not pay enough tax that way, you might have to pay estimated tax. If you are not required to make estimated tax payments, you may pay any tax due when you file your return. For additional information refer to Publication 583.\
\
Estimated tax\
Generally, you must pay taxes on income, including self-employment tax (discussed next), by making regular payments of estimated tax during the year. For additional information, refer to Estimated Taxes.\
\
Self-employment tax \
Self-employment tax (SE tax) is a social security and Medicare tax primarily for individuals who work for themselves. Your payments of SE tax contribute to your coverage under the social security system. Social security coverage provides you with retirement benefits, disability benefits, survivor benefits, and hospital insurance (Medicare) benefits.\
\
Generally, you must pay SE tax and file Schedule SE (Form 1040 or 1040-SR) if either of the following applies.\
\
If your net earnings from self-employment were $400 or more.\
If you work for a church or a qualified church-controlled organization (other than as a minister or member of a religious order) that elected an exemption from social security and Medicare taxes, you are subject to SE tax if you receive $108.28 or more in wages from the church or organization.\
Note: There are special rules and exceptions for aliens, fishing crew members, notary public, state or local government employees, foreign government or international organization employees, etc. For additional information, refer to Self-Employment Tax. \
\
Employment taxes\
When you have employees, you as the employer have certain employment tax responsibilities that you must pay and forms you must file. Employment taxes include the following:\
\
Social security and Medicare taxes \
Federal income tax withholding \
Federal unemployment (FUTA) tax \
For additional information, refer to Employment Taxes for Small Businesses.\
\
Excise tax\
This section describes the excise taxes you may have to pay and the forms you have to file if you do any of the following.\
\
Manufacture or sell certain products.\
Operate certain kinds of businesses.\
Use various kinds of equipment, facilities, or products.\
Receive payment for certain services.\
Form 720 - The federal excise taxes reported on Form 720, consist of several broad categories of taxes, including the following.\
\
Environmental taxes.\
Communications and air transportation taxes.\
Fuel taxes.\
Tax on the first retail sale of heavy trucks, trailers, and tractors.\
Manufacturers taxes on the sale or use of a variety of different articles\
Form 2290 - There is a federal excise tax on certain trucks, truck tractors, and buses used on public highways. The tax applies to vehicles having a taxable gross weight of 55,000 pounds or more. Report the tax on Form 2290. For additional information, see the instructions for Form 2290 .\
\
Form 730 - If you are in the business of accepting wagers or conducting a wagering pool or lottery, you may be liable for the federal excise tax on wagering. Use Form 730, to figure the tax on the wagers you receive.\
\
Form 11-C - Use Form 11-C, Occupational Tax and Registration Return for Wagering, to register for any wagering activity and to pay the federal occupational tax on wagering.\
\
Excise tax has several general excise tax programs. One of the major components of the excise program is motor fuel. For additional information, refer to Excise Taxes."
Role = "You are tax expert. Answer the question using only information below: \n"
user_msg = "What are the typs of business taxes?"
prompttemplate = '{Role} \n Information: "{bussinessTaxcontext}" \n Question: "{user_msg}" \n Answer:'
prompt = prompttemplate.format(Role=Role,bussinessTaxcontext=bussinessTaxcontext,user_msg=user_msg)

print(prompt)



